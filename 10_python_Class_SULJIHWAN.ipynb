{
 "cells": [
  {
   "cell_type": "code",
   "execution_count": 2,
   "id": "4e8afb5f-8e14-44f1-8bcb-bfd38f75d6d3",
   "metadata": {},
   "outputs": [],
   "source": [
    "#객체 지향 프로그래밍 (Object-Oriented Programming: OOP)\n",
    "#객체 : Object, 클래스로 선언하여 만든 실제 데이터 인스턴스(instance)\n",
    "#포인트 1) 상태 + 행위로 객체를 구분함\n",
    "#포인트 2) 클래스는 객체를 생성하기위한 설계도"
   ]
  },
  {
   "cell_type": "code",
   "execution_count": 4,
   "id": "3b43f5f1-934e-4041-9b74-e0d1f4023556",
   "metadata": {},
   "outputs": [
    {
     "name": "stdout",
     "output_type": "stream",
     "text": [
      "3\n",
      "7\n",
      "12\n"
     ]
    }
   ],
   "source": [
    "result = 0\n",
    "\n",
    "def adder(num):\n",
    "    global result  \n",
    "    result += num\n",
    "    return result\n",
    "\n",
    "print(adder(3))\n",
    "print(adder(4))\n",
    "print(adder(5))"
   ]
  },
  {
   "cell_type": "code",
   "execution_count": 5,
   "id": "00da05b9-47c0-40eb-bf45-d5269b32d235",
   "metadata": {},
   "outputs": [
    {
     "name": "stdout",
     "output_type": "stream",
     "text": [
      "3\n",
      "7\n",
      "3\n",
      "8\n"
     ]
    }
   ],
   "source": [
    "result1 = 0\n",
    "result2 = 0\n",
    "\n",
    "def adder1(num):\n",
    "    global result1  \n",
    "    result1 += num\n",
    "    return result1\n",
    "\n",
    "def adder2(num):\n",
    "    global result2  \n",
    "    result2 += num\n",
    "    return result2\n",
    "\n",
    "print(adder1(3))\n",
    "print(adder1(4))\n",
    "print(adder2(3))\n",
    "print(adder2(5))"
   ]
  },
  {
   "cell_type": "code",
   "execution_count": 6,
   "id": "1137d9e0-f5f3-471b-bf67-47fd240b77f3",
   "metadata": {},
   "outputs": [
    {
     "name": "stdout",
     "output_type": "stream",
     "text": [
      "3\n",
      "7\n",
      "3\n",
      "8\n"
     ]
    }
   ],
   "source": [
    "class Calculator:\n",
    "    def __init__(self):\n",
    "        self.result = 0\n",
    "    def adder(self, num):\n",
    "        self.result += num\n",
    "        return self.result\n",
    "\n",
    "cal1 = Calculator()\n",
    "cal2 = Calculator()\n",
    "\n",
    "print(cal1.adder(3))\n",
    "print(cal1.adder(4))\n",
    "print(cal2.adder(3))\n",
    "print(cal2.adder(5))"
   ]
  },
  {
   "cell_type": "code",
   "execution_count": 12,
   "id": "88e57cec-638e-490b-88f6-6a40a9b26e40",
   "metadata": {},
   "outputs": [],
   "source": [
    "#클래스는 일종의 틀이며 그걸로 만드는 것이 객체이다.\n",
    "#클래스로 만든 객체를 인스턴스라고 한다.\n",
    "#즉, 인스턴스는 어떤 클래스로 만들었는지가 명시될 때 주로 사용한다."
   ]
  },
  {
   "cell_type": "code",
   "execution_count": 11,
   "id": "3901a123-2f30-4c5d-9c47-20d814e2fe13",
   "metadata": {},
   "outputs": [
    {
     "data": {
      "text/plain": [
       "3"
      ]
     },
     "execution_count": 11,
     "metadata": {},
     "output_type": "execute_result"
    }
   ],
   "source": [
    "call = Calculator()\n",
    "call.adder(3)"
   ]
  },
  {
   "cell_type": "code",
   "execution_count": 18,
   "id": "852a6f18-4430-4ef1-8b3a-41f9aee0341a",
   "metadata": {},
   "outputs": [
    {
     "name": "stdout",
     "output_type": "stream",
     "text": [
      "지구는 4006년에 멸망한다.\n",
      "지구는 40006년에 멸망한다.\n"
     ]
    }
   ],
   "source": [
    "#클래스 변수 공유\n",
    "class Service:\n",
    "    secret1 = \"지구는 4006년에 멸망한다.\"\n",
    "    secret2 = \"지구는 40006년에 멸망한다.\"\n",
    "an = Service()\n",
    "print(an.secret1)\n",
    "print(an.secret2)"
   ]
  },
  {
   "cell_type": "code",
   "execution_count": 19,
   "id": "00b067d7-7849-4218-81c6-e97972828c57",
   "metadata": {},
   "outputs": [
    {
     "name": "stdout",
     "output_type": "stream",
     "text": [
      "지구가 4006년에 멸망한다는 사실은 뻥이다.\n",
      "지구는 40006년에 멸망한다.\n"
     ]
    }
   ],
   "source": [
    "Service.secret1 = \"지구가 4006년에 멸망한다는 사실은 뻥이다.\"\n",
    "print(an.secret1)\n",
    "print(an.secret2)"
   ]
  },
  {
   "cell_type": "code",
   "execution_count": 25,
   "id": "fae0e117-3a01-4485-b155-adf8bbcc4f5f",
   "metadata": {},
   "outputs": [
    {
     "name": "stdout",
     "output_type": "stream",
     "text": [
      "1 + 1 = 2이다.\n"
     ]
    }
   ],
   "source": [
    "#클래스 내부의 함수 : 매서드(method)\n",
    "#매서드의 첫번째 파라미터는 자신을 전달하므로 주로 self라는 이름을 사용함.\n",
    "#다른이름을 써도 작동하나 가독성이 떨어짐.\n",
    "\n",
    "class Service:\n",
    "    secret = \"지구는 4006년에 멸망한다.\"\n",
    "    def sum(selfs, a, b):      \n",
    "        result = a + b\n",
    "        print(\"%d + %d = %d이다.\" %(a, b, result)) \n",
    "\n",
    "an = Service()\n",
    "an.sum(1,1)"
   ]
  },
  {
   "cell_type": "code",
   "execution_count": 28,
   "id": "508fdcfe-fe3d-44f9-8083-642f646a9dc8",
   "metadata": {},
   "outputs": [
    {
     "name": "stdout",
     "output_type": "stream",
     "text": [
      "박달도사 님, 1 + 1 = 2입이다.\n"
     ]
    }
   ],
   "source": [
    "class Service:\n",
    "    secret = \"지구는 4006년에 멸망한다.\"\n",
    "    def setname(self, name):\n",
    "        self.name = name\n",
    "        \n",
    "    def sum(self, a, b):      \n",
    "        result = a + b\n",
    "        print(\"%s 님, %d + %d = %d입이다.\" %(self.name, a, b, result)) \n",
    "\n",
    "an = Service()\n",
    "an.setname(\"박달도사\")\n",
    "an.sum(1,1)"
   ]
  },
  {
   "cell_type": "code",
   "execution_count": 29,
   "id": "f1a183b4-0895-4482-a258-65392d8e3061",
   "metadata": {},
   "outputs": [],
   "source": [
    "kim = Service()\n",
    "kim.name = \"박정보\""
   ]
  },
  {
   "cell_type": "code",
   "execution_count": 32,
   "id": "37d22d6f-2a80-4ac9-ac19-2686e4e23904",
   "metadata": {},
   "outputs": [
    {
     "name": "stdout",
     "output_type": "stream",
     "text": [
      "지구는 4006년에 멸망한다.\n",
      "박정보\n"
     ]
    }
   ],
   "source": [
    "print(kim.secret)\n",
    "print(kim.name)"
   ]
  },
  {
   "cell_type": "code",
   "execution_count": 33,
   "id": "506f735a-4869-43c3-9adc-d5ab73b7af22",
   "metadata": {},
   "outputs": [],
   "source": [
    "class Service:\n",
    "    secret = \"지구는 4006년에 멸망한다.\"\n",
    "    def __init__(self, name):\n",
    "        self.name = name\n",
    "        \n",
    "    def sum(self, a, b):      \n",
    "        result = a + b\n",
    "        print(\"%s 님, %d + %d = %d입이다.\" %(self.name, a, b, result)) "
   ]
  },
  {
   "cell_type": "code",
   "execution_count": 34,
   "id": "93df4efc-e6e1-4a54-8d28-45494d839de6",
   "metadata": {},
   "outputs": [
    {
     "ename": "TypeError",
     "evalue": "Service.__init__() missing 1 required positional argument: 'name'",
     "output_type": "error",
     "traceback": [
      "\u001b[1;31m---------------------------------------------------------------------------\u001b[0m",
      "\u001b[1;31mTypeError\u001b[0m                                 Traceback (most recent call last)",
      "Cell \u001b[1;32mIn[34], line 1\u001b[0m\n\u001b[1;32m----> 1\u001b[0m lee \u001b[38;5;241m=\u001b[39m \u001b[43mService\u001b[49m\u001b[43m(\u001b[49m\u001b[43m)\u001b[49m\n",
      "\u001b[1;31mTypeError\u001b[0m: Service.__init__() missing 1 required positional argument: 'name'"
     ]
    }
   ],
   "source": [
    "lee = Service()"
   ]
  },
  {
   "cell_type": "code",
   "execution_count": 38,
   "id": "dba687d6-4dc8-4c1e-b24f-1c8479e6b380",
   "metadata": {},
   "outputs": [
    {
     "name": "stdout",
     "output_type": "stream",
     "text": [
      "수달도사 님, 2 + 3 = 5입이다.\n"
     ]
    }
   ],
   "source": [
    "lee = Service(\"수달도사\")\n",
    "lee.sum(2,3)"
   ]
  },
  {
   "cell_type": "code",
   "execution_count": 40,
   "id": "5768a030-269c-46c2-8ee1-1e16c8c6731c",
   "metadata": {},
   "outputs": [
    {
     "data": {
      "text/plain": [
       "__main__.FourCal"
      ]
     },
     "execution_count": 40,
     "metadata": {},
     "output_type": "execute_result"
    }
   ],
   "source": [
    "#사칙연산을 할 수 있는 클래스 Fourcal\n",
    "class FourCal:\n",
    "    pass\n",
    "\n",
    "a = FourCal()\n",
    "type(a)"
   ]
  },
  {
   "cell_type": "code",
   "execution_count": 42,
   "id": "1b75e838-f766-42fc-902f-a8e16c4ce254",
   "metadata": {},
   "outputs": [
    {
     "name": "stdout",
     "output_type": "stream",
     "text": [
      "4\n",
      "2\n"
     ]
    }
   ],
   "source": [
    "class FourCal:\n",
    "    def setdata(self, first, second):\n",
    "        self.first = first\n",
    "        self.second = second\n",
    "        \n",
    "a = FourCal()\n",
    "a.setdata(4,2)\n",
    "print(a.first)\n",
    "print(a.second)"
   ]
  },
  {
   "cell_type": "code",
   "execution_count": 43,
   "id": "28ca4a4b-c03c-4670-8cf7-c2741750f98e",
   "metadata": {},
   "outputs": [
    {
     "name": "stdout",
     "output_type": "stream",
     "text": [
      "6\n"
     ]
    }
   ],
   "source": [
    "class FourCal:\n",
    "    def setdata(self, first, second):\n",
    "        self.first = first\n",
    "        self.second = second\n",
    "    def sum(self):\n",
    "        result = self.first + self.second\n",
    "        return result\n",
    "\n",
    "a = FourCal()\n",
    "a.setdata(4,2)\n",
    "print(a.sum())"
   ]
  },
  {
   "cell_type": "code",
   "execution_count": 44,
   "id": "fcca0db6-dae8-4288-9a20-d8a668f475b2",
   "metadata": {},
   "outputs": [
    {
     "name": "stdout",
     "output_type": "stream",
     "text": [
      "6\n",
      "8\n",
      "2\n",
      "2.0\n"
     ]
    }
   ],
   "source": [
    "class FourCal:\n",
    "    def setdata(self, first, second):\n",
    "        self.first = first\n",
    "        self.second = second\n",
    "    def sum(self):\n",
    "        result = self.first + self.second\n",
    "        return result\n",
    "    def mul(self):\n",
    "        result = self.first * self.second\n",
    "        return result\n",
    "    def sub(self):\n",
    "        result = self.first - self.second\n",
    "        return result\n",
    "    def div(self):\n",
    "        result = self.first / self.second\n",
    "        return result\n",
    "\n",
    "a = FourCal()\n",
    "a.setdata(4,2)\n",
    "print(a.sum())\n",
    "print(a.mul())\n",
    "print(a.sub())\n",
    "print(a.div())"
   ]
  },
  {
   "cell_type": "code",
   "execution_count": null,
   "id": "983b9cc3-fd0a-4b78-9721-64cd30267d64",
   "metadata": {},
   "outputs": [],
   "source": []
  }
 ],
 "metadata": {
  "kernelspec": {
   "display_name": "Python 3 (ipykernel)",
   "language": "python",
   "name": "python3"
  },
  "language_info": {
   "codemirror_mode": {
    "name": "ipython",
    "version": 3
   },
   "file_extension": ".py",
   "mimetype": "text/x-python",
   "name": "python",
   "nbconvert_exporter": "python",
   "pygments_lexer": "ipython3",
   "version": "3.12.0"
  }
 },
 "nbformat": 4,
 "nbformat_minor": 5
}
